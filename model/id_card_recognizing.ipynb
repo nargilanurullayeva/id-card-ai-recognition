{
 "cells": [
  {
   "cell_type": "code",
   "execution_count": 1,
   "id": "a43df92f",
   "metadata": {},
   "outputs": [],
   "source": [
    "import numpy as np\n",
    "import matplotlib.pyplot as plt\n",
    "import os\n",
    "import easyocr\n",
    "import cv2"
   ]
  },
  {
   "cell_type": "code",
   "execution_count": 2,
   "id": "a9edeadd",
   "metadata": {},
   "outputs": [],
   "source": [
    "DATADIR=\"img\"\n",
    "CATEGORIES=[\"ID_CARD\",\"FOTOKOPI\"]\n",
    "IMG_SIZE=100\n",
    "training_data=[]\n",
    "\n",
    "def create_training_data():\n",
    "    for category in CATEGORIES:\n",
    "        path=os.path.join(DATADIR, category)\n",
    "        class_num=CATEGORIES.index(category)\n",
    "        for img in os.listdir(path):\n",
    "            try:\n",
    "                img_array=cv2.imread(os.path.join(path,img))\n",
    "                new_array=cv2.resize(img_array, (IMG_SIZE, IMG_SIZE))\n",
    "                training_data.append([new_array, class_num])\n",
    "            except Exception as e:\n",
    "                pass\n",
    "\n",
    "create_training_data()"
   ]
  },
  {
   "cell_type": "code",
   "execution_count": 3,
   "id": "afff8580",
   "metadata": {},
   "outputs": [
    {
     "name": "stdout",
     "output_type": "stream",
     "text": [
      "2743\n"
     ]
    }
   ],
   "source": [
    "print(len(training_data))"
   ]
  },
  {
   "cell_type": "code",
   "execution_count": 5,
   "id": "58f86183",
   "metadata": {},
   "outputs": [],
   "source": [
    "import random\n",
    "random.shuffle(training_data)"
   ]
  },
  {
   "cell_type": "code",
   "execution_count": 6,
   "id": "026b7045",
   "metadata": {},
   "outputs": [],
   "source": [
    "x=[]\n",
    "y=[]\n",
    "for features, label in training_data:\n",
    "    x.append(features)\n",
    "    y.append(label)\n",
    "x=np.array(x).reshape(-1,IMG_SIZE, IMG_SIZE,3)"
   ]
  },
  {
   "cell_type": "code",
   "execution_count": 7,
   "id": "8ef8f7b9",
   "metadata": {},
   "outputs": [],
   "source": [
    "import tensorflow as tf\n",
    "from tensorflow.keras.models import Sequential\n",
    "from tensorflow.keras.layers import Dense, Dropout, Activation, Flatten, Conv2D, MaxPooling2D\n",
    "import pickle"
   ]
  },
  {
   "cell_type": "code",
   "execution_count": 8,
   "id": "2c7705f9",
   "metadata": {},
   "outputs": [],
   "source": [
    "x=x/255.0\n",
    "\n",
    "y=np.array(y)"
   ]
  },
  {
   "cell_type": "code",
   "execution_count": 9,
   "id": "b95d9c41",
   "metadata": {},
   "outputs": [
    {
     "name": "stdout",
     "output_type": "stream",
     "text": [
      "Epoch 1/12\n",
      "240/240 [==============================] - 40s 158ms/step - loss: 0.2466 - accuracy: 0.9417 - val_loss: 0.0425 - val_accuracy: 0.9866\n",
      "Epoch 2/12\n",
      "240/240 [==============================] - 37s 155ms/step - loss: 0.0664 - accuracy: 0.9818 - val_loss: 0.0749 - val_accuracy: 0.9635\n",
      "Epoch 3/12\n",
      "240/240 [==============================] - 37s 155ms/step - loss: 0.0682 - accuracy: 0.9792 - val_loss: 0.0516 - val_accuracy: 0.9806\n",
      "Epoch 4/12\n",
      "240/240 [==============================] - 37s 156ms/step - loss: 0.0653 - accuracy: 0.9854 - val_loss: 0.0231 - val_accuracy: 0.9988\n",
      "Epoch 5/12\n",
      "240/240 [==============================] - 38s 157ms/step - loss: 0.0144 - accuracy: 0.9974 - val_loss: 0.0084 - val_accuracy: 0.9964\n",
      "Epoch 6/12\n",
      "240/240 [==============================] - 38s 157ms/step - loss: 2.0513e-04 - accuracy: 1.0000 - val_loss: 1.8217e-04 - val_accuracy: 1.0000\n",
      "Epoch 7/12\n",
      "240/240 [==============================] - 38s 156ms/step - loss: 0.1990 - accuracy: 0.9495 - val_loss: 0.0503 - val_accuracy: 0.9660\n",
      "Epoch 8/12\n",
      "240/240 [==============================] - 38s 156ms/step - loss: 0.0891 - accuracy: 0.9792 - val_loss: 0.1011 - val_accuracy: 0.9648\n",
      "Epoch 9/12\n",
      "240/240 [==============================] - 37s 155ms/step - loss: 0.0565 - accuracy: 0.9812 - val_loss: 0.0435 - val_accuracy: 0.9757\n",
      "Epoch 10/12\n",
      "240/240 [==============================] - 37s 152ms/step - loss: 0.0164 - accuracy: 0.9927 - val_loss: 0.0465 - val_accuracy: 0.9793\n",
      "Epoch 11/12\n",
      "240/240 [==============================] - 37s 152ms/step - loss: 0.0140 - accuracy: 0.9922 - val_loss: 0.0630 - val_accuracy: 0.9806\n",
      "Epoch 12/12\n",
      "240/240 [==============================] - 38s 160ms/step - loss: 0.0101 - accuracy: 0.9932 - val_loss: 0.0394 - val_accuracy: 0.9866\n"
     ]
    },
    {
     "data": {
      "text/plain": [
       "<keras.callbacks.History at 0x132ee9a63e0>"
      ]
     },
     "execution_count": 9,
     "metadata": {},
     "output_type": "execute_result"
    }
   ],
   "source": [
    "model=Sequential()\n",
    "model.add(Conv2D(64, (3,3), input_shape=x.shape[1:]))\n",
    "model.add(Activation(\"relu\"))\n",
    "model.add(MaxPooling2D(pool_size=(2,2)))\n",
    "\n",
    "model.add(Conv2D(64, (3,3)))\n",
    "model.add(Activation(\"relu\"))\n",
    "model.add(MaxPooling2D(pool_size=(2,2)))\n",
    "\n",
    "model.add(Flatten())\n",
    "model.add(Dense(64))\n",
    "\n",
    "model.add(Dense(1))\n",
    "model.add(Activation('sigmoid'))\n",
    "\n",
    "model.compile(loss=\"binary_crossentropy\", \n",
    "              optimizer=\"adam\", \n",
    "              metrics=['accuracy'])\n",
    "model.fit(x, y, batch_size=8, epochs=12, validation_split=0.3)"
   ]
  },
  {
   "cell_type": "code",
   "execution_count": 10,
   "id": "1208d507",
   "metadata": {},
   "outputs": [
    {
     "name": "stdout",
     "output_type": "stream",
     "text": [
      "1/1 [==============================] - 0s 289ms/step\n",
      "FOTOKOPI\n"
     ]
    }
   ],
   "source": [
    "CATEGORIES=[\"ID_CARD\",\"FOTOKOPI\"]\n",
    "def prepare(filepath):\n",
    "    IMG_SIZE=100\n",
    "    img_array=cv2.imread(filepath)\n",
    "    new_array=cv2.resize(img_array, (IMG_SIZE, IMG_SIZE))\n",
    "    return new_array.reshape(-1, IMG_SIZE, IMG_SIZE, 3)\n",
    "prediction=model.predict([prepare(\"FOTOKOPI/_234201.jpg\")])\n",
    "print(CATEGORIES[int(prediction[0][0])])"
   ]
  },
  {
   "cell_type": "code",
   "execution_count": 11,
   "id": "5623f136",
   "metadata": {},
   "outputs": [
    {
     "name": "stdout",
     "output_type": "stream",
     "text": [
      "1/1 [==============================] - 0s 56ms/step\n",
      "ID_CARD\n"
     ]
    }
   ],
   "source": [
    "CATEGORIES=[\"ID_CARD\",\"FOTOKOPI\"]\n",
    "def prepare(filepath):\n",
    "    IMG_SIZE=100\n",
    "    img_array=cv2.imread(filepath)\n",
    "    new_array=cv2.resize(img_array, (IMG_SIZE, IMG_SIZE))\n",
    "    return new_array.reshape(-1, IMG_SIZE, IMG_SIZE, 3)\n",
    "prediction=model.predict([prepare(\"TEST_ID_CARD/_090835.jpg\")])\n",
    "print(CATEGORIES[int(prediction[0][0])])"
   ]
  },
  {
   "cell_type": "code",
   "execution_count": 12,
   "id": "9a86d8f1",
   "metadata": {},
   "outputs": [
    {
     "data": {
      "text/plain": [
       "['model.pkl']"
      ]
     },
     "execution_count": 12,
     "metadata": {},
     "output_type": "execute_result"
    }
   ],
   "source": [
    "from joblib import Parallel, delayed\n",
    "import joblib\n",
    "\n",
    "joblib.dump(model, 'model.pkl')"
   ]
  },
  {
   "cell_type": "code",
   "execution_count": 14,
   "id": "ab00032e",
   "metadata": {},
   "outputs": [],
   "source": [
    "benim = joblib.load('model.pkl')"
   ]
  },
  {
   "cell_type": "code",
   "execution_count": 15,
   "id": "5a873591",
   "metadata": {},
   "outputs": [
    {
     "name": "stdout",
     "output_type": "stream",
     "text": [
      "1/1 [==============================] - 0s 155ms/step\n",
      "ID_CARD\n"
     ]
    }
   ],
   "source": [
    "CATEGORIES=[\"ID_CARD\",\"FOTOKOPI\"]\n",
    "def prepare(filepath):\n",
    "    IMG_SIZE=100\n",
    "    img_array=cv2.imread(filepath)\n",
    "    new_array=cv2.resize(img_array, (IMG_SIZE, IMG_SIZE))\n",
    "    return new_array.reshape(-1, IMG_SIZE, IMG_SIZE, 3)\n",
    "prediction=benim.predict([prepare(\"TEST_ID_CARD/_090835.jpg\")])\n",
    "print(CATEGORIES[int(prediction[0][0])])"
   ]
  },
  {
   "cell_type": "code",
   "execution_count": null,
   "id": "7c23dca0",
   "metadata": {},
   "outputs": [],
   "source": []
  }
 ],
 "metadata": {
  "kernelspec": {
   "display_name": "Python 3 (ipykernel)",
   "language": "python",
   "name": "python3"
  },
  "language_info": {
   "codemirror_mode": {
    "name": "ipython",
    "version": 3
   },
   "file_extension": ".py",
   "mimetype": "text/x-python",
   "name": "python",
   "nbconvert_exporter": "python",
   "pygments_lexer": "ipython3",
   "version": "3.10.7"
  }
 },
 "nbformat": 4,
 "nbformat_minor": 5
}

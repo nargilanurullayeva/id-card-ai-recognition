{
 "cells": [
  {
   "cell_type": "code",
   "execution_count": 1,
   "id": "4a7ee4b8",
   "metadata": {},
   "outputs": [],
   "source": [
    "import numpy as np\n",
    "import matplotlib.pyplot as plt\n",
    "import os\n",
    "import cv2"
   ]
  },
  {
   "cell_type": "code",
   "execution_count": 11,
   "id": "b33003d2",
   "metadata": {},
   "outputs": [],
   "source": [
    "DATADIR=\"img\"\n",
    "CATEGORIES=[\"TCkimlik\",\"Metin\",\"Yabanci\"]\n",
    "IMG_SIZE=50\n",
    "training_data=[]\n",
    "\n",
    "def create_training_data():\n",
    "    for category in CATEGORIES:\n",
    "        path=os.path.join(DATADIR, category)\n",
    "        class_num=CATEGORIES.index(category)\n",
    "        for img in os.listdir(path):\n",
    "            try:\n",
    "                img_array=cv2.imread(os.path.join(path,img))\n",
    "                new_array=cv2.resize(img_array, (IMG_SIZE, IMG_SIZE))\n",
    "                training_data.append([new_array, class_num])\n",
    "            except Exception as e:\n",
    "                pass\n",
    "\n",
    "create_training_data()"
   ]
  },
  {
   "cell_type": "code",
   "execution_count": 12,
   "id": "d1343fa9",
   "metadata": {},
   "outputs": [
    {
     "name": "stdout",
     "output_type": "stream",
     "text": [
      "47\n"
     ]
    }
   ],
   "source": [
    "print(len(training_data))"
   ]
  },
  {
   "cell_type": "code",
   "execution_count": 13,
   "id": "9ace3c3d",
   "metadata": {},
   "outputs": [
    {
     "data": {
      "text/plain": [
       "<matplotlib.image.AxesImage at 0x196234c1b70>"
      ]
     },
     "execution_count": 13,
     "metadata": {},
     "output_type": "execute_result"
    },
    {
     "data": {
      "image/png": "[encoded data removed]",
      "text/plain": [
       "<Figure size 640x480 with 1 Axes>"
      ]
     },
     "metadata": {},
     "output_type": "display_data"
    }
   ],
   "source": [
    "plt.imshow(training_data[3][0])"
   ]
  },
  {
   "cell_type": "code",
   "execution_count": 14,
   "id": "19c0d03a",
   "metadata": {},
   "outputs": [],
   "source": [
    "import random\n",
    "random.shuffle(training_data)"
   ]
  },
  {
   "cell_type": "code",
   "execution_count": 15,
   "id": "7e7c1288",
   "metadata": {},
   "outputs": [],
   "source": [
    "x=[]\n",
    "y=[]\n",
    "for features, label in training_data:\n",
    "    x.append(features)\n",
    "    y.append(label)\n",
    "x=np.array(x).reshape(-1,IMG_SIZE, IMG_SIZE,3)"
   ]
  },
  {
   "cell_type": "markdown",
   "id": "5ab99565",
   "metadata": {},
   "source": [
    "# Creation Model"
   ]
  },
  {
   "cell_type": "code",
   "execution_count": 16,
   "id": "e86ff076",
   "metadata": {},
   "outputs": [],
   "source": [
    "import tensorflow as tf\n",
    "from tensorflow.keras.models import Sequential\n",
    "from tensorflow.keras.layers import Dense, Dropout, Activation, Flatten, Conv2D, MaxPooling2D\n",
    "import pickle"
   ]
  },
  {
   "cell_type": "code",
   "execution_count": 17,
   "id": "0bbcc8f0",
   "metadata": {},
   "outputs": [],
   "source": [
    "x=x/255.0\n",
    "\n",
    "y=np.array(y)"
   ]
  },
  {
   "cell_type": "code",
   "execution_count": 18,
   "id": "ed876263",
   "metadata": {},
   "outputs": [
    {
     "name": "stdout",
     "output_type": "stream",
     "text": [
      "Epoch 1/12\n",
      "8/8 [==============================] - 1s 35ms/step - loss: 2.0839 - accuracy: 0.2812 - val_loss: -1.3102 - val_accuracy: 0.1333\n",
      "Epoch 2/12\n",
      "8/8 [==============================] - 0s 20ms/step - loss: 0.4665 - accuracy: 0.1562 - val_loss: 0.3959 - val_accuracy: 0.1333\n",
      "Epoch 3/12\n",
      "8/8 [==============================] - 0s 20ms/step - loss: 0.4329 - accuracy: 0.1562 - val_loss: -0.4704 - val_accuracy: 0.1333\n",
      "Epoch 4/12\n",
      "8/8 [==============================] - 0s 19ms/step - loss: 0.3428 - accuracy: 0.1562 - val_loss: -1.4458 - val_accuracy: 0.1333\n",
      "Epoch 5/12\n",
      "8/8 [==============================] - 0s 20ms/step - loss: 0.4139 - accuracy: 0.1562 - val_loss: -0.0769 - val_accuracy: 0.4000\n",
      "Epoch 6/12\n",
      "8/8 [==============================] - 0s 18ms/step - loss: 0.0718 - accuracy: 0.2500 - val_loss: -1.3037 - val_accuracy: 0.1333\n",
      "Epoch 7/12\n",
      "8/8 [==============================] - 0s 18ms/step - loss: -0.3297 - accuracy: 0.1562 - val_loss: -2.0850 - val_accuracy: 0.4000\n",
      "Epoch 8/12\n",
      "8/8 [==============================] - 0s 22ms/step - loss: -1.3577 - accuracy: 0.5312 - val_loss: -6.2161 - val_accuracy: 0.1333\n",
      "Epoch 9/12\n",
      "8/8 [==============================] - 0s 20ms/step - loss: -1.8474 - accuracy: 0.1875 - val_loss: -7.4278 - val_accuracy: 0.2667\n",
      "Epoch 10/12\n",
      "8/8 [==============================] - 0s 22ms/step - loss: -4.5537 - accuracy: 0.4062 - val_loss: -14.0921 - val_accuracy: 0.2000\n",
      "Epoch 11/12\n",
      "8/8 [==============================] - 0s 19ms/step - loss: -8.9611 - accuracy: 0.3750 - val_loss: -28.2876 - val_accuracy: 0.2000\n",
      "Epoch 12/12\n",
      "8/8 [==============================] - 0s 22ms/step - loss: -14.4980 - accuracy: 0.1562 - val_loss: -41.3472 - val_accuracy: 0.4000\n"
     ]
    },
    {
     "data": {
      "text/plain": [
       "<keras.callbacks.History at 0x19604f9fb80>"
      ]
     },
     "execution_count": 18,
     "metadata": {},
     "output_type": "execute_result"
    }
   ],
   "source": [
    "model=Sequential()\n",
    "model.add(Conv2D(64, (3,3), input_shape=x.shape[1:]))\n",
    "model.add(Activation(\"relu\"))\n",
    "model.add(MaxPooling2D(pool_size=(2,2)))\n",
    "\n",
    "model.add(Conv2D(64, (3,3)))\n",
    "model.add(Activation(\"relu\"))\n",
    "model.add(MaxPooling2D(pool_size=(2,2)))\n",
    "\n",
    "model.add(Flatten())\n",
    "model.add(Dense(64))\n",
    "\n",
    "model.add(Dense(1))\n",
    "model.add(Activation('sigmoid'))\n",
    "\n",
    "model.compile(loss=\"binary_crossentropy\", \n",
    "              optimizer=\"adam\", \n",
    "              metrics=['accuracy'])\n",
    "model.fit(x, y, batch_size=4, epochs=12, validation_split=0.3)"
   ]
  },
  {
   "cell_type": "code",
   "execution_count": 20,
   "id": "553e50e1",
   "metadata": {},
   "outputs": [
    {
     "name": "stdout",
     "output_type": "stream",
     "text": [
      "1/1 [==============================] - 0s 48ms/step\n",
      "TCkimlik\n"
     ]
    }
   ],
   "source": [
    "CATEGORIES=[\"TCkimlik\",\"Metin\",\"Yabanci\"]\n",
    "def prepare(filepath):\n",
    "    IMG_SIZE=50\n",
    "    img_array=cv2.imread(filepath)\n",
    "    new_array=cv2.resize(img_array, (IMG_SIZE, IMG_SIZE))\n",
    "    return new_array.reshape(-1, IMG_SIZE, IMG_SIZE, 3)\n",
    "prediction=model.predict([prepare(\"img/halil.jpg\")])\n",
    "print(CATEGORIES[int(prediction[0][0])])"
   ]
  },
  {
   "cell_type": "code",
   "execution_count": 21,
   "id": "0eb3ccea",
   "metadata": {},
   "outputs": [
    {
     "name": "stdout",
     "output_type": "stream",
     "text": [
      "1/1 [==============================] - 0s 19ms/step\n",
      "Metin\n"
     ]
    }
   ],
   "source": [
    "CATEGORIES=[\"TCkimlik\",\"Metin\",\"Yabanci\"]\n",
    "def prepare(filepath):\n",
    "    IMG_SIZE=50\n",
    "    img_array=cv2.imread(filepath)\n",
    "    new_array=cv2.resize(img_array, (IMG_SIZE, IMG_SIZE))\n",
    "    return new_array.reshape(-1, IMG_SIZE, IMG_SIZE, 3)\n",
    "prediction=model.predict([prepare(\"img/metin.jpg\")])\n",
    "print(CATEGORIES[int(prediction[0][0])])"
   ]
  },
  {
   "cell_type": "code",
   "execution_count": 22,
   "id": "89f1c5b4",
   "metadata": {},
   "outputs": [
    {
     "name": "stdout",
     "output_type": "stream",
     "text": [
      "1/1 [==============================] - 0s 17ms/step\n",
      "TCkimlik\n"
     ]
    }
   ],
   "source": [
    "CATEGORIES=[\"TCkimlik\",\"Metin\",\"Yabanci\"]\n",
    "def prepare(filepath):\n",
    "    IMG_SIZE=50\n",
    "    img_array=cv2.imread(filepath)\n",
    "    new_array=cv2.resize(img_array, (IMG_SIZE, IMG_SIZE))\n",
    "    return new_array.reshape(-1, IMG_SIZE, IMG_SIZE, 3)\n",
    "prediction=model.predict([prepare(\"img/baran.jpg\")])\n",
    "print(CATEGORIES[int(prediction[0][0])])"
   ]
  },
  {
   "cell_type": "code",
   "execution_count": 28,
   "id": "3b181520",
   "metadata": {},
   "outputs": [
    {
     "name": "stdout",
     "output_type": "stream",
     "text": [
      "1/1 [==============================] - 0s 17ms/step\n",
      "TCkimlik\n"
     ]
    }
   ],
   "source": [
    "CATEGORIES=[\"TCkimlik\",\"Metin\",\"Yabanci\"]\n",
    "def prepare(filepath):\n",
    "    IMG_SIZE=50\n",
    "    img_array=cv2.imread(filepath)\n",
    "    new_array=cv2.resize(img_array, (IMG_SIZE, IMG_SIZE))\n",
    "    return new_array.reshape(-1, IMG_SIZE, IMG_SIZE, 3)\n",
    "prediction=model.predict([prepare(\"img/durmus.jpg\")])\n",
    "print(CATEGORIES[int(prediction[0][0])])"
   ]
  },
  {
   "cell_type": "code",
   "execution_count": 29,
   "id": "a70675fd",
   "metadata": {},
   "outputs": [
    {
     "name": "stdout",
     "output_type": "stream",
     "text": [
      "Keras weights file (<HDF5 file \"variables.h5\" (mode r+)>) saving:\n",
      "...layers\\activation\n",
      "......vars\n",
      "...layers\\activation_1\n",
      "......vars\n",
      "...layers\\activation_2\n",
      "......vars\n",
      "...layers\\conv2d\n",
      "......vars\n",
      ".........0\n",
      ".........1\n",
      "...layers\\conv2d_1\n",
      "......vars\n",
      ".........0\n",
      ".........1\n",
      "...layers\\dense\n",
      "......vars\n",
      ".........0\n",
      ".........1\n",
      "...layers\\dense_1\n",
      "......vars\n",
      ".........0\n",
      ".........1\n",
      "...layers\\flatten\n",
      "......vars\n",
      "...layers\\max_pooling2d\n",
      "......vars\n",
      "...layers\\max_pooling2d_1\n",
      "......vars\n",
      "...metrics\\mean\n",
      "......vars\n",
      ".........0\n",
      ".........1\n",
      "...metrics\\mean_metric_wrapper\n",
      "......vars\n",
      ".........0\n",
      ".........1\n",
      "...optimizer\n",
      "......vars\n",
      ".........0\n",
      ".........1\n",
      ".........10\n",
      ".........11\n",
      ".........12\n",
      ".........13\n",
      ".........14\n",
      ".........15\n",
      ".........16\n",
      ".........2\n",
      ".........3\n",
      ".........4\n",
      ".........5\n",
      ".........6\n",
      ".........7\n",
      ".........8\n",
      ".........9\n",
      "...vars\n",
      "Keras model archive saving:\n",
      "File Name                                             Modified             Size\n",
      "config.json                                    2023-01-12 13:19:27         3472\n",
      "metadata.json                                  2023-01-12 13:19:27           64\n",
      "variables.h5                                   2023-01-12 13:19:27      6450952\n"
     ]
    },
    {
     "data": {
      "text/plain": [
       "['models/model_39_rgb.pkl']"
      ]
     },
     "execution_count": 29,
     "metadata": {},
     "output_type": "execute_result"
    }
   ],
   "source": [
    "from joblib import Parallel, delayed\n",
    "import joblib\n",
    "  \n",
    "joblib.dump(model, 'models/model_39_rgb.pkl')"
   ]
  },
  {
   "cell_type": "code",
   "execution_count": 41,
   "id": "09e1ef53",
   "metadata": {},
   "outputs": [
    {
     "name": "stdout",
     "output_type": "stream",
     "text": [
      "Epoch 1/20\n",
      "8/8 [==============================] - 0s 22ms/step - loss: -22.8603 - accuracy: 0.3438 - val_loss: -71.9452 - val_accuracy: 0.2000\n",
      "Epoch 2/20\n",
      "8/8 [==============================] - 0s 19ms/step - loss: -35.5412 - accuracy: 0.4062 - val_loss: -107.1191 - val_accuracy: 0.2000\n",
      "Epoch 3/20\n",
      "8/8 [==============================] - 0s 24ms/step - loss: -52.8826 - accuracy: 0.2188 - val_loss: -172.9804 - val_accuracy: 0.2000\n",
      "Epoch 4/20\n",
      "8/8 [==============================] - 0s 22ms/step - loss: -81.0146 - accuracy: 0.3438 - val_loss: -267.0805 - val_accuracy: 0.2000\n",
      "Epoch 5/20\n",
      "8/8 [==============================] - 0s 22ms/step - loss: -118.4241 - accuracy: 0.2500 - val_loss: -357.7925 - val_accuracy: 0.3333\n",
      "Epoch 6/20\n",
      "8/8 [==============================] - 0s 23ms/step - loss: -184.6280 - accuracy: 0.3125 - val_loss: -480.0752 - val_accuracy: 0.3333\n",
      "Epoch 7/20\n",
      "8/8 [==============================] - 0s 23ms/step - loss: -247.5286 - accuracy: 0.4062 - val_loss: -790.7849 - val_accuracy: 0.2000\n",
      "Epoch 8/20\n",
      "8/8 [==============================] - 0s 20ms/step - loss: -353.2316 - accuracy: 0.2188 - val_loss: -994.0383 - val_accuracy: 0.2000\n",
      "Epoch 9/20\n",
      "8/8 [==============================] - 0s 23ms/step - loss: -392.5369 - accuracy: 0.1875 - val_loss: -1357.4603 - val_accuracy: 0.2000\n",
      "Epoch 10/20\n",
      "8/8 [==============================] - 0s 23ms/step - loss: -610.4655 - accuracy: 0.5000 - val_loss: -1702.3101 - val_accuracy: 0.3333\n",
      "Epoch 11/20\n",
      "8/8 [==============================] - 0s 22ms/step - loss: -819.0659 - accuracy: 0.2500 - val_loss: -2474.7852 - val_accuracy: 0.2000\n",
      "Epoch 12/20\n",
      "8/8 [==============================] - 0s 17ms/step - loss: -1051.5083 - accuracy: 0.2812 - val_loss: -2979.1021 - val_accuracy: 0.2000\n",
      "Epoch 13/20\n",
      "8/8 [==============================] - 0s 19ms/step - loss: -1401.8911 - accuracy: 0.3125 - val_loss: -3722.5627 - val_accuracy: 0.2667\n",
      "Epoch 14/20\n",
      "8/8 [==============================] - 0s 20ms/step - loss: -1798.1086 - accuracy: 0.3438 - val_loss: -4708.9585 - val_accuracy: 0.2667\n",
      "Epoch 15/20\n",
      "8/8 [==============================] - 0s 21ms/step - loss: -2159.9321 - accuracy: 0.2500 - val_loss: -6013.3438 - val_accuracy: 0.2667\n",
      "Epoch 16/20\n",
      "8/8 [==============================] - 0s 17ms/step - loss: -2803.0295 - accuracy: 0.3125 - val_loss: -7551.8179 - val_accuracy: 0.2667\n",
      "Epoch 17/20\n",
      "8/8 [==============================] - 0s 20ms/step - loss: -3586.3867 - accuracy: 0.2812 - val_loss: -9413.5713 - val_accuracy: 0.2000\n",
      "Epoch 18/20\n",
      "8/8 [==============================] - 0s 20ms/step - loss: -4443.5742 - accuracy: 0.2812 - val_loss: -11567.7373 - val_accuracy: 0.2667\n",
      "Epoch 19/20\n",
      "8/8 [==============================] - 0s 22ms/step - loss: -5538.9893 - accuracy: 0.3125 - val_loss: -14468.4062 - val_accuracy: 0.2000\n",
      "Epoch 20/20\n",
      "8/8 [==============================] - 0s 19ms/step - loss: -6176.1401 - accuracy: 0.1562 - val_loss: -17665.4883 - val_accuracy: 0.2000\n"
     ]
    },
    {
     "data": {
      "text/plain": [
       "<keras.callbacks.History at 0x1961f745630>"
      ]
     },
     "execution_count": 41,
     "metadata": {},
     "output_type": "execute_result"
    }
   ],
   "source": [
    "model.fit(x, y, batch_size=4, epochs=20, validation_split=0.3)"
   ]
  },
  {
   "cell_type": "code",
   "execution_count": 47,
   "id": "c9b23d26",
   "metadata": {},
   "outputs": [
    {
     "name": "stdout",
     "output_type": "stream",
     "text": [
      "1/1 [==============================] - 0s 27ms/step\n",
      "Metin\n"
     ]
    }
   ],
   "source": [
    "CATEGORIES=[\"TCkimlik\",\"Metin\",\"Yabanci\"]\n",
    "def prepare(filepath):\n",
    "    IMG_SIZE=50\n",
    "    img_array=cv2.imread(filepath)\n",
    "    new_array=cv2.resize(img_array, (IMG_SIZE, IMG_SIZE))\n",
    "    return new_array.reshape(-1, IMG_SIZE, IMG_SIZE, 3)\n",
    "prediction=model.predict([prepare(\"img/ali.jpg\")])\n",
    "print(CATEGORIES[int(prediction[0][0])])"
   ]
  },
  {
   "cell_type": "code",
   "execution_count": 30,
   "id": "0d315733",
   "metadata": {},
   "outputs": [
    {
     "name": "stdout",
     "output_type": "stream",
     "text": [
      "Epoch 1/6\n",
      "4/4 [==============================] - 1s 92ms/step - loss: 6.8906 - accuracy: 0.0938 - val_loss: -3.7995 - val_accuracy: 0.1333\n",
      "Epoch 2/6\n",
      "4/4 [==============================] - 0s 52ms/step - loss: 0.7016 - accuracy: 0.1562 - val_loss: 0.5621 - val_accuracy: 0.1333\n",
      "Epoch 3/6\n",
      "4/4 [==============================] - 0s 50ms/step - loss: 0.6746 - accuracy: 0.1562 - val_loss: 0.6330 - val_accuracy: 0.1333\n",
      "Epoch 4/6\n",
      "4/4 [==============================] - 0s 49ms/step - loss: 0.6587 - accuracy: 0.1562 - val_loss: 0.5469 - val_accuracy: 0.1333\n",
      "Epoch 5/6\n",
      "4/4 [==============================] - 0s 50ms/step - loss: 0.5418 - accuracy: 0.1562 - val_loss: -0.2207 - val_accuracy: 0.1333\n",
      "Epoch 6/6\n",
      "4/4 [==============================] - 0s 49ms/step - loss: 0.3624 - accuracy: 0.1562 - val_loss: -0.8401 - val_accuracy: 0.1333\n"
     ]
    },
    {
     "data": {
      "text/plain": [
       "<keras.callbacks.History at 0x1961d5057e0>"
      ]
     },
     "execution_count": 30,
     "metadata": {},
     "output_type": "execute_result"
    }
   ],
   "source": [
    "model2=Sequential()\n",
    "model2.add(Conv2D(64, (15,15), input_shape=x.shape[1:]))\n",
    "model2.add(Activation(\"relu\"))\n",
    "model2.add(MaxPooling2D(pool_size=(2,2)))\n",
    "\n",
    "model2.add(Conv2D(64, (15,15)))\n",
    "model2.add(Activation(\"relu\"))\n",
    "model2.add(MaxPooling2D(pool_size=(2,2)))\n",
    "\n",
    "model2.add(Flatten())\n",
    "model2.add(Dense(64))\n",
    "\n",
    "model2.add(Dense(1))\n",
    "model2.add(Activation('sigmoid'))\n",
    "\n",
    "model2.compile(loss=\"binary_crossentropy\", \n",
    "              optimizer=\"adam\", \n",
    "              metrics=['accuracy'])\n",
    "model2.fit(x, y, batch_size=8, epochs=6, validation_split=0.3)"
   ]
  },
  {
   "cell_type": "code",
   "execution_count": 34,
   "id": "3a8b97a6",
   "metadata": {},
   "outputs": [
    {
     "name": "stdout",
     "output_type": "stream",
     "text": [
      "1/1 [==============================] - 0s 52ms/step\n",
      "Metin\n"
     ]
    }
   ],
   "source": [
    "CATEGORIES=[\"TCkimlik\",\"Metin\",\"Yabanci\"]\n",
    "def prepare(filepath):\n",
    "    IMG_SIZE=50\n",
    "    img_array=cv2.imread(filepath)\n",
    "    new_array=cv2.resize(img_array, (IMG_SIZE, IMG_SIZE))\n",
    "    return new_array.reshape(-1, IMG_SIZE, IMG_SIZE, 3)\n",
    "prediction=model2.predict([prepare(\"img/halil.jpg\")])\n",
    "print(CATEGORIES[int(prediction[0][0])])"
   ]
  }
 ],
 "metadata": {
  "kernelspec": {
   "display_name": "Python 3 (ipykernel)",
   "language": "python",
   "name": "python3"
  },
  "language_info": {
   "codemirror_mode": {
    "name": "ipython",
    "version": 3
   },
   "file_extension": ".py",
   "mimetype": "text/x-python",
   "name": "python",
   "nbconvert_exporter": "python",
   "pygments_lexer": "ipython3",
   "version": "3.10.7"
  }
 },
 "nbformat": 4,
 "nbformat_minor": 5
}

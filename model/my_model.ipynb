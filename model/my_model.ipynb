{
 "cells": [
  {
   "cell_type": "code",
   "execution_count": 1,
   "id": "a43df92f",
   "metadata": {},
   "outputs": [],
   "source": [
    "import numpy as np\n",
    "import matplotlib.pyplot as plt\n",
    "import os\n",
    "import easyocr\n",
    "import cv2"
   ]
  },
  {
   "cell_type": "code",
   "execution_count": 24,
   "id": "a9edeadd",
   "metadata": {},
   "outputs": [],
   "source": [
    "DATADIR=\"img\"\n",
    "CATEGORIES=[\"ID_CARD\",\"OTHERS\"]\n",
    "IMG_SIZE=100\n",
    "training_data=[]\n",
    "\n",
    "def create_training_data():\n",
    "    for category in CATEGORIES:\n",
    "        path=os.path.join(DATADIR, category)\n",
    "        class_num=CATEGORIES.index(category)\n",
    "        for img in os.listdir(path):\n",
    "            try:\n",
    "                img_array=cv2.imread(os.path.join(path,img))\n",
    "                new_array=cv2.resize(img_array, (IMG_SIZE, IMG_SIZE))\n",
    "                training_data.append([new_array, class_num])\n",
    "            except Exception as e:\n",
    "                pass\n",
    "\n",
    "create_training_data()"
   ]
  },
  {
   "cell_type": "code",
   "execution_count": 25,
   "id": "afff8580",
   "metadata": {},
   "outputs": [
    {
     "name": "stdout",
     "output_type": "stream",
     "text": [
      "949\n"
     ]
    }
   ],
   "source": [
    "print(len(training_data))"
   ]
  },
  {
   "cell_type": "code",
   "execution_count": 27,
   "id": "58f86183",
   "metadata": {},
   "outputs": [],
   "source": [
    "import random\n",
    "random.shuffle(training_data)"
   ]
  },
  {
   "cell_type": "code",
   "execution_count": 28,
   "id": "026b7045",
   "metadata": {},
   "outputs": [],
   "source": [
    "x=[]\n",
    "y=[]\n",
    "for features, label in training_data:\n",
    "    x.append(features)\n",
    "    y.append(label)\n",
    "x=np.array(x).reshape(-1,IMG_SIZE, IMG_SIZE,3)"
   ]
  },
  {
   "cell_type": "code",
   "execution_count": 29,
   "id": "8ef8f7b9",
   "metadata": {},
   "outputs": [],
   "source": [
    "import tensorflow as tf\n",
    "from tensorflow.keras.models import Sequential\n",
    "from tensorflow.keras.layers import Dense, Dropout, Activation, Flatten, Conv2D, MaxPooling2D\n",
    "import pickle"
   ]
  },
  {
   "cell_type": "code",
   "execution_count": 30,
   "id": "2c7705f9",
   "metadata": {},
   "outputs": [],
   "source": [
    "x=x/255.0\n",
    "\n",
    "y=np.array(y)"
   ]
  },
  {
   "cell_type": "code",
   "execution_count": 31,
   "id": "b95d9c41",
   "metadata": {},
   "outputs": [
    {
     "name": "stdout",
     "output_type": "stream",
     "text": [
      "Epoch 1/24\n",
      "111/111 [==============================] - 9s 73ms/step - loss: 0.8178 - accuracy: 0.6792 - val_loss: 0.3956 - val_accuracy: 0.8316\n",
      "Epoch 2/24\n",
      "111/111 [==============================] - 8s 71ms/step - loss: 0.2255 - accuracy: 0.9142 - val_loss: 0.1848 - val_accuracy: 0.9404\n",
      "Epoch 3/24\n",
      "111/111 [==============================] - 8s 76ms/step - loss: 0.1245 - accuracy: 0.9578 - val_loss: 0.2371 - val_accuracy: 0.9263\n",
      "Epoch 4/24\n",
      "111/111 [==============================] - 9s 78ms/step - loss: 0.0809 - accuracy: 0.9684 - val_loss: 0.2251 - val_accuracy: 0.9579\n",
      "Epoch 5/24\n",
      "111/111 [==============================] - 8s 75ms/step - loss: 0.0343 - accuracy: 0.9895 - val_loss: 0.2151 - val_accuracy: 0.9614\n",
      "Epoch 6/24\n",
      "111/111 [==============================] - 9s 77ms/step - loss: 0.0360 - accuracy: 0.9880 - val_loss: 0.2199 - val_accuracy: 0.9439\n",
      "Epoch 7/24\n",
      "111/111 [==============================] - 9s 81ms/step - loss: 0.0182 - accuracy: 0.9925 - val_loss: 0.2672 - val_accuracy: 0.9544\n",
      "Epoch 8/24\n",
      "111/111 [==============================] - 8s 74ms/step - loss: 0.0054 - accuracy: 0.9985 - val_loss: 0.2734 - val_accuracy: 0.9509\n",
      "Epoch 9/24\n",
      "111/111 [==============================] - 11s 99ms/step - loss: 0.0022 - accuracy: 1.0000 - val_loss: 0.3011 - val_accuracy: 0.9544\n",
      "Epoch 10/24\n",
      "111/111 [==============================] - 12s 105ms/step - loss: 0.0016 - accuracy: 1.0000 - val_loss: 0.3028 - val_accuracy: 0.9544\n",
      "Epoch 11/24\n",
      "111/111 [==============================] - 9s 85ms/step - loss: 9.3457e-04 - accuracy: 1.0000 - val_loss: 0.3159 - val_accuracy: 0.9474\n",
      "Epoch 12/24\n",
      "111/111 [==============================] - 11s 99ms/step - loss: 9.5449e-04 - accuracy: 1.0000 - val_loss: 0.3733 - val_accuracy: 0.9614\n",
      "Epoch 13/24\n",
      "111/111 [==============================] - 10s 90ms/step - loss: 3.1447e-04 - accuracy: 1.0000 - val_loss: 0.3586 - val_accuracy: 0.9544\n",
      "Epoch 14/24\n",
      "111/111 [==============================] - 10s 86ms/step - loss: 4.0785e-04 - accuracy: 1.0000 - val_loss: 0.4083 - val_accuracy: 0.9649\n",
      "Epoch 15/24\n",
      "111/111 [==============================] - 9s 82ms/step - loss: 2.7439e-04 - accuracy: 1.0000 - val_loss: 0.3651 - val_accuracy: 0.9579\n",
      "Epoch 16/24\n",
      "111/111 [==============================] - 9s 82ms/step - loss: 2.0215e-04 - accuracy: 1.0000 - val_loss: 0.3846 - val_accuracy: 0.9614\n",
      "Epoch 17/24\n",
      "111/111 [==============================] - 9s 81ms/step - loss: 1.3580e-04 - accuracy: 1.0000 - val_loss: 0.3726 - val_accuracy: 0.9544\n",
      "Epoch 18/24\n",
      "111/111 [==============================] - 9s 83ms/step - loss: 1.1278e-04 - accuracy: 1.0000 - val_loss: 0.4359 - val_accuracy: 0.9684\n",
      "Epoch 19/24\n",
      "111/111 [==============================] - 9s 83ms/step - loss: 9.2003e-05 - accuracy: 1.0000 - val_loss: 0.4584 - val_accuracy: 0.9684\n",
      "Epoch 20/24\n",
      "111/111 [==============================] - 9s 80ms/step - loss: 9.3531e-05 - accuracy: 1.0000 - val_loss: 0.4210 - val_accuracy: 0.9614\n",
      "Epoch 21/24\n",
      "111/111 [==============================] - 9s 81ms/step - loss: 6.9919e-05 - accuracy: 1.0000 - val_loss: 0.4186 - val_accuracy: 0.9614\n",
      "Epoch 22/24\n",
      "111/111 [==============================] - 9s 82ms/step - loss: 5.6562e-05 - accuracy: 1.0000 - val_loss: 0.4202 - val_accuracy: 0.9614\n",
      "Epoch 23/24\n",
      "111/111 [==============================] - 9s 82ms/step - loss: 5.9221e-05 - accuracy: 1.0000 - val_loss: 0.4222 - val_accuracy: 0.9579\n",
      "Epoch 24/24\n",
      "111/111 [==============================] - 9s 83ms/step - loss: 4.9388e-05 - accuracy: 1.0000 - val_loss: 0.4108 - val_accuracy: 0.9579\n"
     ]
    },
    {
     "data": {
      "text/plain": [
       "<keras.callbacks.History at 0x2191292c610>"
      ]
     },
     "execution_count": 31,
     "metadata": {},
     "output_type": "execute_result"
    }
   ],
   "source": [
    "model=Sequential()\n",
    "model.add(Conv2D(64, (3,3), input_shape=x.shape[1:]))\n",
    "model.add(Activation(\"relu\"))\n",
    "model.add(MaxPooling2D(pool_size=(2,2)))\n",
    "\n",
    "model.add(Conv2D(64, (3,3)))\n",
    "model.add(Activation(\"relu\"))\n",
    "model.add(MaxPooling2D(pool_size=(2,2)))\n",
    "\n",
    "model.add(Flatten())\n",
    "model.add(Dense(64))\n",
    "\n",
    "model.add(Dense(1))\n",
    "model.add(Activation('sigmoid'))\n",
    "\n",
    "model.compile(loss=\"binary_crossentropy\", \n",
    "              optimizer=\"adam\", \n",
    "              metrics=['accuracy'])\n",
    "model.fit(x, y, batch_size=6, epochs=24, validation_split=0.3)"
   ]
  },
  {
   "cell_type": "code",
   "execution_count": 32,
   "id": "1208d507",
   "metadata": {},
   "outputs": [
    {
     "name": "stdout",
     "output_type": "stream",
     "text": [
      "1/1 [==============================] - 0s 78ms/step\n",
      "ID_CARD\n"
     ]
    }
   ],
   "source": [
    "CATEGORIES=[\"ID_CARD\",\"OTHERS\"]\n",
    "def prepare(filepath):\n",
    "    IMG_SIZE=100\n",
    "    img_array=cv2.imread(filepath)\n",
    "    new_array=cv2.resize(img_array, (IMG_SIZE, IMG_SIZE))\n",
    "    return new_array.reshape(-1, IMG_SIZE, IMG_SIZE, 3)\n",
    "prediction=model.predict([prepare(\"TEST_ID_CARD/test2.jpeg\")])\n",
    "print(CATEGORIES[int(prediction[0][0])])"
   ]
  },
  {
   "cell_type": "code",
   "execution_count": 33,
   "id": "9a86d8f1",
   "metadata": {},
   "outputs": [
    {
     "data": {
      "text/plain": [
       "['my_model.pkl']"
      ]
     },
     "execution_count": 33,
     "metadata": {},
     "output_type": "execute_result"
    }
   ],
   "source": [
    "from joblib import Parallel, delayed\n",
    "import joblib\n",
    "\n",
    "joblib.dump(model, 'my_model.pkl')"
   ]
  },
  {
   "cell_type": "code",
   "execution_count": null,
   "id": "92599d5c",
   "metadata": {},
   "outputs": [],
   "source": []
  },
  {
   "cell_type": "code",
   "execution_count": null,
   "id": "7c23dca0",
   "metadata": {},
   "outputs": [],
   "source": []
  }
 ],
 "metadata": {
  "kernelspec": {
   "display_name": "Python 3 (ipykernel)",
   "language": "python",
   "name": "python3"
  },
  "language_info": {
   "codemirror_mode": {
    "name": "ipython",
    "version": 3
   },
   "file_extension": ".py",
   "mimetype": "text/x-python",
   "name": "python",
   "nbconvert_exporter": "python",
   "pygments_lexer": "ipython3",
   "version": "3.10.7"
  }
 },
 "nbformat": 4,
 "nbformat_minor": 5
}
